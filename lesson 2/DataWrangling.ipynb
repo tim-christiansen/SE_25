{
 "cells": [
  {
   "cell_type": "markdown",
   "id": "9b346f43",
   "metadata": {},
   "source": [
    "# Data Wrangling: Running Results\n",
    "\n",
    "Analyze results of [https://valentinslauf.de/Ergebnisse-Fotos/](https://valentinslauf.de/Ergebnisse-Fotos/) "
   ]
  },
  {
   "cell_type": "code",
   "execution_count": 1,
   "id": "887b5fe1",
   "metadata": {},
   "outputs": [],
   "source": [
    "import pandas as pd\n",
    "import numpy as np\n",
    "import seaborn as sns\n",
    "from matplotlib import pyplot as plt"
   ]
  },
  {
   "cell_type": "code",
   "execution_count": 54,
   "id": "becfaf77",
   "metadata": {},
   "outputs": [
    {
     "data": {
      "text/html": [
       "<div>\n",
       "<style scoped>\n",
       "    .dataframe tbody tr th:only-of-type {\n",
       "        vertical-align: middle;\n",
       "    }\n",
       "\n",
       "    .dataframe tbody tr th {\n",
       "        vertical-align: top;\n",
       "    }\n",
       "\n",
       "    .dataframe thead th {\n",
       "        text-align: right;\n",
       "    }\n",
       "</style>\n",
       "<table border=\"1\" class=\"dataframe\">\n",
       "  <thead>\n",
       "    <tr style=\"text-align: right;\">\n",
       "      <th></th>\n",
       "      <th>start_no</th>\n",
       "      <th>pair_name</th>\n",
       "      <th>name1</th>\n",
       "      <th>name2</th>\n",
       "      <th>cat</th>\n",
       "      <th>rank_cat</th>\n",
       "      <th>time</th>\n",
       "      <th>lag</th>\n",
       "    </tr>\n",
       "    <tr>\n",
       "      <th>id</th>\n",
       "      <th></th>\n",
       "      <th></th>\n",
       "      <th></th>\n",
       "      <th></th>\n",
       "      <th></th>\n",
       "      <th></th>\n",
       "      <th></th>\n",
       "      <th></th>\n",
       "    </tr>\n",
       "  </thead>\n",
       "  <tbody>\n",
       "    <tr>\n",
       "      <th>1</th>\n",
       "      <td>86.0</td>\n",
       "      <td>Je t'aime</td>\n",
       "      <td>Eric</td>\n",
       "      <td>Steven</td>\n",
       "      <td>Herren</td>\n",
       "      <td>1.0</td>\n",
       "      <td>0:34:32</td>\n",
       "      <td>NaN</td>\n",
       "    </tr>\n",
       "    <tr>\n",
       "      <th>2</th>\n",
       "      <td>36.0</td>\n",
       "      <td>Kaffeeklatsch</td>\n",
       "      <td>Karen</td>\n",
       "      <td>Patrick</td>\n",
       "      <td>mixed</td>\n",
       "      <td>1.0</td>\n",
       "      <td>0:40:58</td>\n",
       "      <td>0:06:26</td>\n",
       "    </tr>\n",
       "    <tr>\n",
       "      <th>3</th>\n",
       "      <td>63.0</td>\n",
       "      <td>Stralau Runners</td>\n",
       "      <td>Jonathan</td>\n",
       "      <td>Mark</td>\n",
       "      <td>Herren</td>\n",
       "      <td>2.0</td>\n",
       "      <td>0:41:26</td>\n",
       "      <td>0:06:54</td>\n",
       "    </tr>\n",
       "    <tr>\n",
       "      <th>4</th>\n",
       "      <td>5.0</td>\n",
       "      <td>Spuartzgis</td>\n",
       "      <td>Ryan</td>\n",
       "      <td>Timothy</td>\n",
       "      <td>mixed</td>\n",
       "      <td>2.0</td>\n",
       "      <td>0:42:21</td>\n",
       "      <td>0:07:49</td>\n",
       "    </tr>\n",
       "    <tr>\n",
       "      <th>5</th>\n",
       "      <td>117.0</td>\n",
       "      <td>Doodle Runners</td>\n",
       "      <td>Anthony</td>\n",
       "      <td>Vanessa</td>\n",
       "      <td>mixed</td>\n",
       "      <td>3.0</td>\n",
       "      <td>0:42:31</td>\n",
       "      <td>0:07:59</td>\n",
       "    </tr>\n",
       "    <tr>\n",
       "      <th>...</th>\n",
       "      <td>...</td>\n",
       "      <td>...</td>\n",
       "      <td>...</td>\n",
       "      <td>...</td>\n",
       "      <td>...</td>\n",
       "      <td>...</td>\n",
       "      <td>...</td>\n",
       "      <td>...</td>\n",
       "    </tr>\n",
       "    <tr>\n",
       "      <th>113</th>\n",
       "      <td>97.0</td>\n",
       "      <td>Pentis</td>\n",
       "      <td>Alex</td>\n",
       "      <td>Robert</td>\n",
       "      <td>mixed</td>\n",
       "      <td>85.0</td>\n",
       "      <td>1:23:32</td>\n",
       "      <td>0:49:00</td>\n",
       "    </tr>\n",
       "    <tr>\n",
       "      <th>114</th>\n",
       "      <td>69.0</td>\n",
       "      <td>Forever Friends</td>\n",
       "      <td>Cindy</td>\n",
       "      <td>Grace</td>\n",
       "      <td>Damen</td>\n",
       "      <td>13.0</td>\n",
       "      <td>1:24:59</td>\n",
       "      <td>0:50:27</td>\n",
       "    </tr>\n",
       "    <tr>\n",
       "      <th>115</th>\n",
       "      <td>108.0</td>\n",
       "      <td>Long Distance Lovers</td>\n",
       "      <td>Raymond</td>\n",
       "      <td>Brent</td>\n",
       "      <td>Damen</td>\n",
       "      <td>14.0</td>\n",
       "      <td>1:27:16</td>\n",
       "      <td>0:52:44</td>\n",
       "    </tr>\n",
       "    <tr>\n",
       "      <th>116</th>\n",
       "      <td>41.0</td>\n",
       "      <td>Loveparade</td>\n",
       "      <td>Johnny</td>\n",
       "      <td>Kenneth</td>\n",
       "      <td>mixed</td>\n",
       "      <td>86.0</td>\n",
       "      <td>1:36:03</td>\n",
       "      <td>1:01:31</td>\n",
       "    </tr>\n",
       "    <tr>\n",
       "      <th>117</th>\n",
       "      <td>145.0</td>\n",
       "      <td>The snookies</td>\n",
       "      <td>Melissa</td>\n",
       "      <td>Trevor</td>\n",
       "      <td>mixed</td>\n",
       "      <td>87.0</td>\n",
       "      <td>1:43:53</td>\n",
       "      <td>1:09:21</td>\n",
       "    </tr>\n",
       "  </tbody>\n",
       "</table>\n",
       "<p>117 rows × 8 columns</p>\n",
       "</div>"
      ],
      "text/plain": [
       "     start_no             pair_name     name1    name2     cat  rank_cat  \\\n",
       "id                                                                         \n",
       "1        86.0             Je t'aime      Eric   Steven  Herren       1.0   \n",
       "2        36.0         Kaffeeklatsch     Karen  Patrick   mixed       1.0   \n",
       "3        63.0       Stralau Runners  Jonathan     Mark  Herren       2.0   \n",
       "4         5.0            Spuartzgis      Ryan  Timothy   mixed       2.0   \n",
       "5       117.0        Doodle Runners   Anthony  Vanessa   mixed       3.0   \n",
       "..        ...                   ...       ...      ...     ...       ...   \n",
       "113      97.0                Pentis      Alex   Robert   mixed      85.0   \n",
       "114      69.0       Forever Friends     Cindy    Grace   Damen      13.0   \n",
       "115     108.0  Long Distance Lovers   Raymond    Brent   Damen      14.0   \n",
       "116      41.0            Loveparade    Johnny  Kenneth   mixed      86.0   \n",
       "117     145.0          The snookies   Melissa   Trevor   mixed      87.0   \n",
       "\n",
       "        time      lag  \n",
       "id                     \n",
       "1    0:34:32      NaN  \n",
       "2    0:40:58  0:06:26  \n",
       "3    0:41:26  0:06:54  \n",
       "4    0:42:21  0:07:49  \n",
       "5    0:42:31  0:07:59  \n",
       "..       ...      ...  \n",
       "113  1:23:32  0:49:00  \n",
       "114  1:24:59  0:50:27  \n",
       "115  1:27:16  0:52:44  \n",
       "116  1:36:03  1:01:31  \n",
       "117  1:43:53  1:09:21  \n",
       "\n",
       "[117 rows x 8 columns]"
      ]
     },
     "execution_count": 54,
     "metadata": {},
     "output_type": "execute_result"
    }
   ],
   "source": [
    "df = pd.read_csv(\n",
    "    \"results_10km.csv\",\n",
    "    encoding=\"iso8859-1\",\n",
    "    skiprows=2,\n",
    "    sep=\";\",\n",
    "    index_col=0\n",
    ")\n",
    "df.columns = ['start_no', 'pair_name', 'name1', 'name2', 'cat', 'rank_cat', 'time', 'lag']\n",
    "df.index.name = 'id'\n",
    "df = df.iloc[:-2]\n",
    "df"
   ]
  },
  {
   "cell_type": "markdown",
   "id": "80f4ea87",
   "metadata": {},
   "source": [
    "## Anonymize the data\n",
    "\n",
    "The data contains personal information as defined by the GDPR. All participants have agreed that their data is to be shared. This however does not include redistribution by third parties. Therefore, the data must be anonymized."
   ]
  },
  {
   "cell_type": "code",
   "execution_count": null,
   "id": "4581f63b",
   "metadata": {},
   "outputs": [],
   "source": [
    "!pip install faker"
   ]
  },
  {
   "cell_type": "code",
   "execution_count": 8,
   "id": "4673a77f",
   "metadata": {},
   "outputs": [],
   "source": [
    "from faker import Faker\n",
    "\n",
    "f = Faker()"
   ]
  },
  {
   "cell_type": "code",
   "execution_count": 46,
   "id": "4bd2a8a8",
   "metadata": {},
   "outputs": [],
   "source": [
    "def anonymize(s: str) -> str:\n",
    "    \"\"\"anonymizes a string\"\"\"\n",
    "    if type(s) == str and s not in [\"\", \"MCL\", \"NaN\", \"Kristian\"]:\n",
    "        return f.first_name()\n",
    "    return s"
   ]
  },
  {
   "cell_type": "code",
   "execution_count": 52,
   "id": "7db56253",
   "metadata": {},
   "outputs": [],
   "source": [
    "# in pandas, a df consists of pd.Series (one for each column)\n",
    "# the output of a Series in Jupyter is in monospace font\n",
    "df['name1'] = df['name1'].apply(anonymize)"
   ]
  },
  {
   "cell_type": "markdown",
   "id": "420e86bd",
   "metadata": {},
   "source": [
    "## What is Tidy Data?\n",
    "\n",
    "According to [Tidy Data](https://vita.had.co.nz/papers/tidy-data.pdf) by Hadley Wickham (2014), in tidy data:\n",
    "\n",
    "1. Each variable forms a column.\n",
    "2. Each observation forms a row.\n",
    "3. Each type of observational unit forms a table.\n",
    "\n",
    "(Codds 3rd normal form)\n"
   ]
  },
  {
   "cell_type": "markdown",
   "id": "f7106b00",
   "metadata": {},
   "source": [
    "## Tidy Data Checklist\n",
    "\n",
    "Don'ts:\n",
    "\n",
    "* Column headers are values, not variable names.\n",
    "* Multiple variables are stored in one column.\n",
    "* Variables are stored in both rows and columns.\n",
    "* Multiple types of observational units are stored in the same table.\n",
    "* A single observational unit is stored in multiple tables.\n"
   ]
  },
  {
   "cell_type": "markdown",
   "id": "f14eee38",
   "metadata": {},
   "source": [
    "## Inspect data types"
   ]
  },
  {
   "cell_type": "code",
   "execution_count": 56,
   "id": "ce1d8ab7",
   "metadata": {},
   "outputs": [],
   "source": [
    "# convert data types\n",
    "df['start_no'] = df['start_no'].astype(int)\n",
    "df['rank_cat'] = df['rank_cat'].astype(int)"
   ]
  },
  {
   "cell_type": "code",
   "execution_count": 57,
   "id": "92d350db",
   "metadata": {},
   "outputs": [
    {
     "data": {
      "text/plain": [
       "start_no      int64\n",
       "pair_name    object\n",
       "name1        object\n",
       "name2        object\n",
       "cat          object\n",
       "rank_cat      int64\n",
       "time         object\n",
       "lag          object\n",
       "dtype: object"
      ]
     },
     "execution_count": 57,
     "metadata": {},
     "output_type": "execute_result"
    }
   ],
   "source": [
    "df.dtypes"
   ]
  },
  {
   "cell_type": "markdown",
   "id": "8bb6d055",
   "metadata": {},
   "source": [
    "## Convert time to a time data type"
   ]
  },
  {
   "cell_type": "code",
   "execution_count": 60,
   "id": "732622d5",
   "metadata": {},
   "outputs": [],
   "source": [
    "import time\n",
    "from datetime import datetime"
   ]
  },
  {
   "cell_type": "code",
   "execution_count": 68,
   "id": "22a26a25",
   "metadata": {},
   "outputs": [],
   "source": [
    "df['time'] = pd.to_timedelta(df['time'])"
   ]
  },
  {
   "cell_type": "code",
   "execution_count": 66,
   "id": "7f7e3123",
   "metadata": {},
   "outputs": [
    {
     "data": {
      "text/plain": [
       "id\n",
       "1     0 days 00:34:32\n",
       "2     0 days 00:40:58\n",
       "3     0 days 00:41:26\n",
       "4     0 days 00:42:21\n",
       "5     0 days 00:42:31\n",
       "            ...      \n",
       "113   0 days 01:23:32\n",
       "114   0 days 01:24:59\n",
       "115   0 days 01:27:16\n",
       "116   0 days 01:36:03\n",
       "117   0 days 01:43:53\n",
       "Name: time, Length: 117, dtype: timedelta64[ns]"
      ]
     },
     "execution_count": 66,
     "metadata": {},
     "output_type": "execute_result"
    }
   ],
   "source": [
    "# same as\n",
    "df['time'] = df['time'].apply(\n",
    "    lambda x: pd.to_timedelta(x)\n",
    ")"
   ]
  },
  {
   "cell_type": "code",
   "execution_count": 79,
   "id": "338851ed",
   "metadata": {},
   "outputs": [
    {
     "data": {
      "text/plain": [
       "Text(0.5, 0, 'time to finish [min]')"
      ]
     },
     "execution_count": 79,
     "metadata": {},
     "output_type": "execute_result"
    },
    {
     "data": {
      "image/png": "[encoded data removed]",
      "text/plain": [
       "<Figure size 640x480 with 1 Axes>"
      ]
     },
     "metadata": {},
     "output_type": "display_data"
    }
   ],
   "source": [
    "(df['time'].astype(int) / (60 * 1000_000_000)).plot.hist(bins=10)\n",
    "plt.ylabel('number of running couples')\n",
    "plt.xlabel('time to finish [min]')"
   ]
  },
  {
   "cell_type": "code",
   "execution_count": 58,
   "id": "07dd2963",
   "metadata": {},
   "outputs": [
    {
     "data": {
      "text/html": [
       "<div>\n",
       "<style scoped>\n",
       "    .dataframe tbody tr th:only-of-type {\n",
       "        vertical-align: middle;\n",
       "    }\n",
       "\n",
       "    .dataframe tbody tr th {\n",
       "        vertical-align: top;\n",
       "    }\n",
       "\n",
       "    .dataframe thead th {\n",
       "        text-align: right;\n",
       "    }\n",
       "</style>\n",
       "<table border=\"1\" class=\"dataframe\">\n",
       "  <thead>\n",
       "    <tr style=\"text-align: right;\">\n",
       "      <th></th>\n",
       "      <th>start_no</th>\n",
       "      <th>pair_name</th>\n",
       "      <th>name1</th>\n",
       "      <th>name2</th>\n",
       "      <th>cat</th>\n",
       "      <th>rank_cat</th>\n",
       "      <th>time</th>\n",
       "      <th>lag</th>\n",
       "    </tr>\n",
       "    <tr>\n",
       "      <th>id</th>\n",
       "      <th></th>\n",
       "      <th></th>\n",
       "      <th></th>\n",
       "      <th></th>\n",
       "      <th></th>\n",
       "      <th></th>\n",
       "      <th></th>\n",
       "      <th></th>\n",
       "    </tr>\n",
       "  </thead>\n",
       "  <tbody>\n",
       "    <tr>\n",
       "      <th>1</th>\n",
       "      <td>86</td>\n",
       "      <td>Je t'aime</td>\n",
       "      <td>Eric</td>\n",
       "      <td>Steven</td>\n",
       "      <td>Herren</td>\n",
       "      <td>1</td>\n",
       "      <td>0:34:32</td>\n",
       "      <td>NaN</td>\n",
       "    </tr>\n",
       "    <tr>\n",
       "      <th>2</th>\n",
       "      <td>36</td>\n",
       "      <td>Kaffeeklatsch</td>\n",
       "      <td>Karen</td>\n",
       "      <td>Patrick</td>\n",
       "      <td>mixed</td>\n",
       "      <td>1</td>\n",
       "      <td>0:40:58</td>\n",
       "      <td>0:06:26</td>\n",
       "    </tr>\n",
       "    <tr>\n",
       "      <th>3</th>\n",
       "      <td>63</td>\n",
       "      <td>Stralau Runners</td>\n",
       "      <td>Jonathan</td>\n",
       "      <td>Mark</td>\n",
       "      <td>Herren</td>\n",
       "      <td>2</td>\n",
       "      <td>0:41:26</td>\n",
       "      <td>0:06:54</td>\n",
       "    </tr>\n",
       "    <tr>\n",
       "      <th>4</th>\n",
       "      <td>5</td>\n",
       "      <td>Spuartzgis</td>\n",
       "      <td>Ryan</td>\n",
       "      <td>Timothy</td>\n",
       "      <td>mixed</td>\n",
       "      <td>2</td>\n",
       "      <td>0:42:21</td>\n",
       "      <td>0:07:49</td>\n",
       "    </tr>\n",
       "    <tr>\n",
       "      <th>5</th>\n",
       "      <td>117</td>\n",
       "      <td>Doodle Runners</td>\n",
       "      <td>Anthony</td>\n",
       "      <td>Vanessa</td>\n",
       "      <td>mixed</td>\n",
       "      <td>3</td>\n",
       "      <td>0:42:31</td>\n",
       "      <td>0:07:59</td>\n",
       "    </tr>\n",
       "  </tbody>\n",
       "</table>\n",
       "</div>"
      ],
      "text/plain": [
       "    start_no        pair_name     name1    name2     cat  rank_cat     time  \\\n",
       "id                                                                            \n",
       "1         86        Je t'aime      Eric   Steven  Herren         1  0:34:32   \n",
       "2         36    Kaffeeklatsch     Karen  Patrick   mixed         1  0:40:58   \n",
       "3         63  Stralau Runners  Jonathan     Mark  Herren         2  0:41:26   \n",
       "4          5       Spuartzgis      Ryan  Timothy   mixed         2  0:42:21   \n",
       "5        117   Doodle Runners   Anthony  Vanessa   mixed         3  0:42:31   \n",
       "\n",
       "        lag  \n",
       "id           \n",
       "1       NaN  \n",
       "2   0:06:26  \n",
       "3   0:06:54  \n",
       "4   0:07:49  \n",
       "5   0:07:59  "
      ]
     },
     "execution_count": 58,
     "metadata": {},
     "output_type": "execute_result"
    }
   ],
   "source": [
    "df.head()"
   ]
  },
  {
   "cell_type": "code",
   "execution_count": null,
   "id": "af92b185",
   "metadata": {},
   "outputs": [],
   "source": []
  },
  {
   "cell_type": "markdown",
   "id": "52a48d77",
   "metadata": {},
   "source": [
    "## Replace values"
   ]
  },
  {
   "cell_type": "code",
   "execution_count": 93,
   "id": "2c938779",
   "metadata": {},
   "outputs": [
    {
     "data": {
      "text/plain": [
       "mixed     87\n",
       "women     14\n",
       "men       11\n",
       "single     5\n",
       "Name: cat, dtype: int64"
      ]
     },
     "execution_count": 93,
     "metadata": {},
     "output_type": "execute_result"
    }
   ],
   "source": [
    "df['cat'].value_counts()"
   ]
  },
  {
   "cell_type": "code",
   "execution_count": 86,
   "id": "419322f5",
   "metadata": {},
   "outputs": [],
   "source": [
    "# df['cat'] == \"Herren\" creates a boolean mask"
   ]
  },
  {
   "cell_type": "code",
   "execution_count": 88,
   "id": "4c80e1ed",
   "metadata": {},
   "outputs": [],
   "source": [
    "# selection\n",
    "# df[df['cat'] == \"Herren\"]"
   ]
  },
  {
   "cell_type": "code",
   "execution_count": 91,
   "id": "336256d3",
   "metadata": {},
   "outputs": [],
   "source": [
    "df[\"cat\"].replace({\n",
    "    \"Herren\": \"men\",\n",
    "    \"Damen\": \"women\",\n",
    "    \"Einzel\": \"single\"\n",
    "}, inplace=True\n",
    ") # returns None with inplace=True, otherwise returns copy"
   ]
  },
  {
   "cell_type": "code",
   "execution_count": 92,
   "id": "62bbb952",
   "metadata": {},
   "outputs": [
    {
     "data": {
      "text/plain": [
       "<AxesSubplot: >"
      ]
     },
     "execution_count": 92,
     "metadata": {},
     "output_type": "execute_result"
    },
    {
     "data": {
      "image/png": "[encoded data removed]",
      "text/plain": [
       "<Figure size 640x480 with 1 Axes>"
      ]
     },
     "metadata": {},
     "output_type": "display_data"
    }
   ],
   "source": [
    "df['cat'].value_counts().plot.barh()"
   ]
  },
  {
   "cell_type": "markdown",
   "id": "8625b636",
   "metadata": {},
   "source": [
    "## What to put in the index of a DataFrame?\n",
    "\n",
    "rule of thumb:\n",
    "\n",
    "* column labels -> y axis label\n",
    "* row index -> x axis label"
   ]
  },
  {
   "cell_type": "code",
   "execution_count": 97,
   "id": "bea7e5aa",
   "metadata": {},
   "outputs": [
    {
     "data": {
      "text/html": [
       "<div>\n",
       "<style scoped>\n",
       "    .dataframe tbody tr th:only-of-type {\n",
       "        vertical-align: middle;\n",
       "    }\n",
       "\n",
       "    .dataframe tbody tr th {\n",
       "        vertical-align: top;\n",
       "    }\n",
       "\n",
       "    .dataframe thead th {\n",
       "        text-align: right;\n",
       "    }\n",
       "</style>\n",
       "<table border=\"1\" class=\"dataframe\">\n",
       "  <thead>\n",
       "    <tr style=\"text-align: right;\">\n",
       "      <th></th>\n",
       "      <th>start_no</th>\n",
       "      <th>pair_name</th>\n",
       "      <th>name1</th>\n",
       "      <th>name2</th>\n",
       "      <th>rank_cat</th>\n",
       "      <th>time</th>\n",
       "      <th>lag</th>\n",
       "    </tr>\n",
       "    <tr>\n",
       "      <th>cat</th>\n",
       "      <th></th>\n",
       "      <th></th>\n",
       "      <th></th>\n",
       "      <th></th>\n",
       "      <th></th>\n",
       "      <th></th>\n",
       "      <th></th>\n",
       "    </tr>\n",
       "  </thead>\n",
       "  <tbody>\n",
       "    <tr>\n",
       "      <th>single</th>\n",
       "      <td>52</td>\n",
       "      <td>Norma &amp; Micha</td>\n",
       "      <td>Erik</td>\n",
       "      <td>Karen</td>\n",
       "      <td>1</td>\n",
       "      <td>0 days 00:47:10</td>\n",
       "      <td>0:12:38</td>\n",
       "    </tr>\n",
       "    <tr>\n",
       "      <th>single</th>\n",
       "      <td>30</td>\n",
       "      <td>Martini</td>\n",
       "      <td>Nathan</td>\n",
       "      <td>Joshua</td>\n",
       "      <td>2</td>\n",
       "      <td>0 days 00:54:09</td>\n",
       "      <td>0:19:37</td>\n",
       "    </tr>\n",
       "    <tr>\n",
       "      <th>single</th>\n",
       "      <td>46</td>\n",
       "      <td>Best Sisters</td>\n",
       "      <td>Christine</td>\n",
       "      <td>Monica</td>\n",
       "      <td>3</td>\n",
       "      <td>0 days 00:56:09</td>\n",
       "      <td>0:21:37</td>\n",
       "    </tr>\n",
       "    <tr>\n",
       "      <th>single</th>\n",
       "      <td>301</td>\n",
       "      <td>NaN</td>\n",
       "      <td>Michael</td>\n",
       "      <td>NaN</td>\n",
       "      <td>4</td>\n",
       "      <td>0 days 00:57:47</td>\n",
       "      <td>0:23:15</td>\n",
       "    </tr>\n",
       "    <tr>\n",
       "      <th>single</th>\n",
       "      <td>307</td>\n",
       "      <td>NaN</td>\n",
       "      <td>Nicholas</td>\n",
       "      <td>NaN</td>\n",
       "      <td>5</td>\n",
       "      <td>0 days 01:05:29</td>\n",
       "      <td>0:30:57</td>\n",
       "    </tr>\n",
       "  </tbody>\n",
       "</table>\n",
       "</div>"
      ],
      "text/plain": [
       "        start_no      pair_name      name1   name2  rank_cat            time  \\\n",
       "cat                                                                            \n",
       "single        52  Norma & Micha       Erik   Karen         1 0 days 00:47:10   \n",
       "single        30        Martini     Nathan  Joshua         2 0 days 00:54:09   \n",
       "single        46   Best Sisters  Christine  Monica         3 0 days 00:56:09   \n",
       "single       301            NaN    Michael     NaN         4 0 days 00:57:47   \n",
       "single       307            NaN   Nicholas     NaN         5 0 days 01:05:29   \n",
       "\n",
       "            lag  \n",
       "cat              \n",
       "single  0:12:38  \n",
       "single  0:19:37  \n",
       "single  0:21:37  \n",
       "single  0:23:15  \n",
       "single  0:30:57  "
      ]
     },
     "execution_count": 97,
     "metadata": {},
     "output_type": "execute_result"
    }
   ],
   "source": [
    "df_cat = df.set_index('cat')  # moves column into index\n",
    "df_cat.loc[\"single\"]          # selection is easier now"
   ]
  },
  {
   "cell_type": "code",
   "execution_count": 104,
   "id": "c86ec0e9",
   "metadata": {},
   "outputs": [
    {
     "data": {
      "text/html": [
       "<div>\n",
       "<style scoped>\n",
       "    .dataframe tbody tr th:only-of-type {\n",
       "        vertical-align: middle;\n",
       "    }\n",
       "\n",
       "    .dataframe tbody tr th {\n",
       "        vertical-align: top;\n",
       "    }\n",
       "\n",
       "    .dataframe thead th {\n",
       "        text-align: right;\n",
       "    }\n",
       "</style>\n",
       "<table border=\"1\" class=\"dataframe\">\n",
       "  <thead>\n",
       "    <tr style=\"text-align: right;\">\n",
       "      <th></th>\n",
       "      <th></th>\n",
       "      <th>start_no</th>\n",
       "      <th>pair_name</th>\n",
       "      <th>name1</th>\n",
       "      <th>name2</th>\n",
       "      <th>time</th>\n",
       "      <th>lag</th>\n",
       "    </tr>\n",
       "    <tr>\n",
       "      <th>cat</th>\n",
       "      <th>rank_cat</th>\n",
       "      <th></th>\n",
       "      <th></th>\n",
       "      <th></th>\n",
       "      <th></th>\n",
       "      <th></th>\n",
       "      <th></th>\n",
       "    </tr>\n",
       "  </thead>\n",
       "  <tbody>\n",
       "    <tr>\n",
       "      <th rowspan=\"5\" valign=\"top\">men</th>\n",
       "      <th>1</th>\n",
       "      <td>86</td>\n",
       "      <td>Je t'aime</td>\n",
       "      <td>Eric</td>\n",
       "      <td>Steven</td>\n",
       "      <td>0 days 00:34:32</td>\n",
       "      <td>NaN</td>\n",
       "    </tr>\n",
       "    <tr>\n",
       "      <th>2</th>\n",
       "      <td>63</td>\n",
       "      <td>Stralau Runners</td>\n",
       "      <td>Jonathan</td>\n",
       "      <td>Mark</td>\n",
       "      <td>0 days 00:41:26</td>\n",
       "      <td>0:06:54</td>\n",
       "    </tr>\n",
       "    <tr>\n",
       "      <th>3</th>\n",
       "      <td>6</td>\n",
       "      <td>HBS Berlin</td>\n",
       "      <td>Natalie</td>\n",
       "      <td>Cheryl</td>\n",
       "      <td>0 days 00:49:52</td>\n",
       "      <td>0:15:20</td>\n",
       "    </tr>\n",
       "    <tr>\n",
       "      <th>4</th>\n",
       "      <td>51</td>\n",
       "      <td>HippHo</td>\n",
       "      <td>Kevin</td>\n",
       "      <td>Kevin</td>\n",
       "      <td>0 days 00:51:22</td>\n",
       "      <td>0:16:50</td>\n",
       "    </tr>\n",
       "    <tr>\n",
       "      <th>5</th>\n",
       "      <td>24</td>\n",
       "      <td>Topete</td>\n",
       "      <td>Amanda</td>\n",
       "      <td>Robert</td>\n",
       "      <td>0 days 00:51:46</td>\n",
       "      <td>0:17:14</td>\n",
       "    </tr>\n",
       "  </tbody>\n",
       "</table>\n",
       "</div>"
      ],
      "text/plain": [
       "              start_no        pair_name     name1   name2            time  \\\n",
       "cat rank_cat                                                                \n",
       "men 1               86        Je t'aime      Eric  Steven 0 days 00:34:32   \n",
       "    2               63  Stralau Runners  Jonathan    Mark 0 days 00:41:26   \n",
       "    3                6       HBS Berlin   Natalie  Cheryl 0 days 00:49:52   \n",
       "    4               51           HippHo     Kevin   Kevin 0 days 00:51:22   \n",
       "    5               24           Topete    Amanda  Robert 0 days 00:51:46   \n",
       "\n",
       "                  lag  \n",
       "cat rank_cat           \n",
       "men 1             NaN  \n",
       "    2         0:06:54  \n",
       "    3         0:15:20  \n",
       "    4         0:16:50  \n",
       "    5         0:17:14  "
      ]
     },
     "execution_count": 104,
     "metadata": {},
     "output_type": "execute_result"
    }
   ],
   "source": [
    "# MultiIndex (index of 2+ features)\n",
    "df_cat2 = df.sort_values(by=['cat', 'rank_cat']).set_index(['cat', 'rank_cat'])\n",
    "df_cat2.head()"
   ]
  },
  {
   "cell_type": "code",
   "execution_count": 100,
   "id": "94e138dc",
   "metadata": {},
   "outputs": [
    {
     "name": "stderr",
     "output_type": "stream",
     "text": [
      "/tmp/ipykernel_372776/929510386.py:1: PerformanceWarning: indexing past lexsort depth may impact performance.\n",
      "  df_cat2.loc[(\"women\", 5)]\n"
     ]
    },
    {
     "data": {
      "text/html": [
       "<div>\n",
       "<style scoped>\n",
       "    .dataframe tbody tr th:only-of-type {\n",
       "        vertical-align: middle;\n",
       "    }\n",
       "\n",
       "    .dataframe tbody tr th {\n",
       "        vertical-align: top;\n",
       "    }\n",
       "\n",
       "    .dataframe thead th {\n",
       "        text-align: right;\n",
       "    }\n",
       "</style>\n",
       "<table border=\"1\" class=\"dataframe\">\n",
       "  <thead>\n",
       "    <tr style=\"text-align: right;\">\n",
       "      <th></th>\n",
       "      <th></th>\n",
       "      <th>start_no</th>\n",
       "      <th>pair_name</th>\n",
       "      <th>name1</th>\n",
       "      <th>name2</th>\n",
       "      <th>time</th>\n",
       "      <th>lag</th>\n",
       "    </tr>\n",
       "    <tr>\n",
       "      <th>cat</th>\n",
       "      <th>rank_cat</th>\n",
       "      <th></th>\n",
       "      <th></th>\n",
       "      <th></th>\n",
       "      <th></th>\n",
       "      <th></th>\n",
       "      <th></th>\n",
       "    </tr>\n",
       "  </thead>\n",
       "  <tbody>\n",
       "    <tr>\n",
       "      <th>women</th>\n",
       "      <th>5</th>\n",
       "      <td>32</td>\n",
       "      <td>Die Running Gags</td>\n",
       "      <td>Tyler</td>\n",
       "      <td>Richard</td>\n",
       "      <td>0 days 01:02:25</td>\n",
       "      <td>0:27:53</td>\n",
       "    </tr>\n",
       "  </tbody>\n",
       "</table>\n",
       "</div>"
      ],
      "text/plain": [
       "                start_no         pair_name  name1    name2            time  \\\n",
       "cat   rank_cat                                                               \n",
       "women 5               32  Die Running Gags  Tyler  Richard 0 days 01:02:25   \n",
       "\n",
       "                    lag  \n",
       "cat   rank_cat           \n",
       "women 5         0:27:53  "
      ]
     },
     "execution_count": 100,
     "metadata": {},
     "output_type": "execute_result"
    }
   ],
   "source": [
    "df_cat2.loc[(\"women\", 5)]  # multiple selection"
   ]
  },
  {
   "cell_type": "code",
   "execution_count": 106,
   "id": "bc86386d",
   "metadata": {},
   "outputs": [
    {
     "data": {
      "text/html": [
       "<div>\n",
       "<style scoped>\n",
       "    .dataframe tbody tr th:only-of-type {\n",
       "        vertical-align: middle;\n",
       "    }\n",
       "\n",
       "    .dataframe tbody tr th {\n",
       "        vertical-align: top;\n",
       "    }\n",
       "\n",
       "    .dataframe thead th {\n",
       "        text-align: right;\n",
       "    }\n",
       "</style>\n",
       "<table border=\"1\" class=\"dataframe\">\n",
       "  <thead>\n",
       "    <tr style=\"text-align: right;\">\n",
       "      <th></th>\n",
       "      <th>cat</th>\n",
       "      <th>start_no</th>\n",
       "      <th>pair_name</th>\n",
       "      <th>name1</th>\n",
       "      <th>name2</th>\n",
       "      <th>rank_cat</th>\n",
       "      <th>time</th>\n",
       "      <th>lag</th>\n",
       "    </tr>\n",
       "  </thead>\n",
       "  <tbody>\n",
       "    <tr>\n",
       "      <th>0</th>\n",
       "      <td>men</td>\n",
       "      <td>86</td>\n",
       "      <td>Je t'aime</td>\n",
       "      <td>Eric</td>\n",
       "      <td>Steven</td>\n",
       "      <td>1</td>\n",
       "      <td>0 days 00:34:32</td>\n",
       "      <td>NaN</td>\n",
       "    </tr>\n",
       "    <tr>\n",
       "      <th>1</th>\n",
       "      <td>mixed</td>\n",
       "      <td>36</td>\n",
       "      <td>Kaffeeklatsch</td>\n",
       "      <td>Karen</td>\n",
       "      <td>Patrick</td>\n",
       "      <td>1</td>\n",
       "      <td>0 days 00:40:58</td>\n",
       "      <td>0:06:26</td>\n",
       "    </tr>\n",
       "    <tr>\n",
       "      <th>2</th>\n",
       "      <td>men</td>\n",
       "      <td>63</td>\n",
       "      <td>Stralau Runners</td>\n",
       "      <td>Jonathan</td>\n",
       "      <td>Mark</td>\n",
       "      <td>2</td>\n",
       "      <td>0 days 00:41:26</td>\n",
       "      <td>0:06:54</td>\n",
       "    </tr>\n",
       "    <tr>\n",
       "      <th>3</th>\n",
       "      <td>mixed</td>\n",
       "      <td>5</td>\n",
       "      <td>Spuartzgis</td>\n",
       "      <td>Ryan</td>\n",
       "      <td>Timothy</td>\n",
       "      <td>2</td>\n",
       "      <td>0 days 00:42:21</td>\n",
       "      <td>0:07:49</td>\n",
       "    </tr>\n",
       "    <tr>\n",
       "      <th>4</th>\n",
       "      <td>mixed</td>\n",
       "      <td>117</td>\n",
       "      <td>Doodle Runners</td>\n",
       "      <td>Anthony</td>\n",
       "      <td>Vanessa</td>\n",
       "      <td>3</td>\n",
       "      <td>0 days 00:42:31</td>\n",
       "      <td>0:07:59</td>\n",
       "    </tr>\n",
       "    <tr>\n",
       "      <th>...</th>\n",
       "      <td>...</td>\n",
       "      <td>...</td>\n",
       "      <td>...</td>\n",
       "      <td>...</td>\n",
       "      <td>...</td>\n",
       "      <td>...</td>\n",
       "      <td>...</td>\n",
       "      <td>...</td>\n",
       "    </tr>\n",
       "    <tr>\n",
       "      <th>112</th>\n",
       "      <td>mixed</td>\n",
       "      <td>97</td>\n",
       "      <td>Pentis</td>\n",
       "      <td>Alex</td>\n",
       "      <td>Robert</td>\n",
       "      <td>85</td>\n",
       "      <td>0 days 01:23:32</td>\n",
       "      <td>0:49:00</td>\n",
       "    </tr>\n",
       "    <tr>\n",
       "      <th>113</th>\n",
       "      <td>women</td>\n",
       "      <td>69</td>\n",
       "      <td>Forever Friends</td>\n",
       "      <td>Cindy</td>\n",
       "      <td>Grace</td>\n",
       "      <td>13</td>\n",
       "      <td>0 days 01:24:59</td>\n",
       "      <td>0:50:27</td>\n",
       "    </tr>\n",
       "    <tr>\n",
       "      <th>114</th>\n",
       "      <td>women</td>\n",
       "      <td>108</td>\n",
       "      <td>Long Distance Lovers</td>\n",
       "      <td>Raymond</td>\n",
       "      <td>Brent</td>\n",
       "      <td>14</td>\n",
       "      <td>0 days 01:27:16</td>\n",
       "      <td>0:52:44</td>\n",
       "    </tr>\n",
       "    <tr>\n",
       "      <th>115</th>\n",
       "      <td>mixed</td>\n",
       "      <td>41</td>\n",
       "      <td>Loveparade</td>\n",
       "      <td>Johnny</td>\n",
       "      <td>Kenneth</td>\n",
       "      <td>86</td>\n",
       "      <td>0 days 01:36:03</td>\n",
       "      <td>1:01:31</td>\n",
       "    </tr>\n",
       "    <tr>\n",
       "      <th>116</th>\n",
       "      <td>mixed</td>\n",
       "      <td>145</td>\n",
       "      <td>The snookies</td>\n",
       "      <td>Melissa</td>\n",
       "      <td>Trevor</td>\n",
       "      <td>87</td>\n",
       "      <td>0 days 01:43:53</td>\n",
       "      <td>1:09:21</td>\n",
       "    </tr>\n",
       "  </tbody>\n",
       "</table>\n",
       "<p>117 rows × 8 columns</p>\n",
       "</div>"
      ],
      "text/plain": [
       "       cat  start_no             pair_name     name1    name2  rank_cat  \\\n",
       "0      men        86             Je t'aime      Eric   Steven         1   \n",
       "1    mixed        36         Kaffeeklatsch     Karen  Patrick         1   \n",
       "2      men        63       Stralau Runners  Jonathan     Mark         2   \n",
       "3    mixed         5            Spuartzgis      Ryan  Timothy         2   \n",
       "4    mixed       117        Doodle Runners   Anthony  Vanessa         3   \n",
       "..     ...       ...                   ...       ...      ...       ...   \n",
       "112  mixed        97                Pentis      Alex   Robert        85   \n",
       "113  women        69       Forever Friends     Cindy    Grace        13   \n",
       "114  women       108  Long Distance Lovers   Raymond    Brent        14   \n",
       "115  mixed        41            Loveparade    Johnny  Kenneth        86   \n",
       "116  mixed       145          The snookies   Melissa   Trevor        87   \n",
       "\n",
       "               time      lag  \n",
       "0   0 days 00:34:32      NaN  \n",
       "1   0 days 00:40:58  0:06:26  \n",
       "2   0 days 00:41:26  0:06:54  \n",
       "3   0 days 00:42:21  0:07:49  \n",
       "4   0 days 00:42:31  0:07:59  \n",
       "..              ...      ...  \n",
       "112 0 days 01:23:32  0:49:00  \n",
       "113 0 days 01:24:59  0:50:27  \n",
       "114 0 days 01:27:16  0:52:44  \n",
       "115 0 days 01:36:03  1:01:31  \n",
       "116 0 days 01:43:53  1:09:21  \n",
       "\n",
       "[117 rows x 8 columns]"
      ]
     },
     "execution_count": 106,
     "metadata": {},
     "output_type": "execute_result"
    }
   ],
   "source": [
    "df_cat.reset_index() # inserts a index starting from 0"
   ]
  },
  {
   "cell_type": "markdown",
   "id": "33b17df9",
   "metadata": {},
   "source": [
    "## Methods to fill missing values"
   ]
  },
  {
   "cell_type": "code",
   "execution_count": 109,
   "id": "247c44ce",
   "metadata": {},
   "outputs": [
    {
     "data": {
      "text/plain": [
       "<AxesSubplot: >"
      ]
     },
     "execution_count": 109,
     "metadata": {},
     "output_type": "execute_result"
    },
    {
     "data": {
      "image/png": "[encoded data removed]",
      "text/plain": [
       "<Figure size 640x480 with 1 Axes>"
      ]
     },
     "metadata": {},
     "output_type": "display_data"
    }
   ],
   "source": [
    "# start with this!\n",
    "df.isna().sum().plot.barh()"
   ]
  },
  {
   "cell_type": "code",
   "execution_count": 114,
   "id": "235b7cf2",
   "metadata": {},
   "outputs": [],
   "source": [
    "df['name2'].fillna(\"unknown\", inplace=True)\n",
    "df['pair_name'].fillna(\"unknown\", inplace=True)\n",
    "df['lag'].fillna(\"0:00:00\", inplace=True)"
   ]
  },
  {
   "cell_type": "code",
   "execution_count": 115,
   "id": "6ffffe2c",
   "metadata": {},
   "outputs": [],
   "source": [
    "# problem with filling missing numbers"
   ]
  },
  {
   "cell_type": "code",
   "execution_count": 133,
   "id": "aca919d1",
   "metadata": {},
   "outputs": [],
   "source": [
    "df['minutes'] = df['time'].astype(int) / (60 * 1000_000_000)\n",
    "df.loc[['10', '53', '113', '7', '77'], 'minutes'] = None"
   ]
  },
  {
   "cell_type": "code",
   "execution_count": 129,
   "id": "c0ef60d1",
   "metadata": {},
   "outputs": [],
   "source": [
    "# usually bad\n",
    "# df['minutes'].fillna(0, inplace=True)"
   ]
  },
  {
   "cell_type": "code",
   "execution_count": 130,
   "id": "e3bd3f5e",
   "metadata": {},
   "outputs": [],
   "source": [
    "# sometimes it works, not good here\n",
    "#df['minutes'].fillna(df['minutes'].mean(), inplace=True)"
   ]
  },
  {
   "cell_type": "code",
   "execution_count": 135,
   "id": "d338d0bf",
   "metadata": {},
   "outputs": [],
   "source": [
    "# works here: interpolation or take adjacent value\n",
    "df['minutes'].fillna(method='ffill', inplace=True)"
   ]
  },
  {
   "cell_type": "code",
   "execution_count": 136,
   "id": "22df3d46",
   "metadata": {},
   "outputs": [
    {
     "data": {
      "text/plain": [
       "<AxesSubplot: xlabel='id'>"
      ]
     },
     "execution_count": 136,
     "metadata": {},
     "output_type": "execute_result"
    },
    {
     "data": {
      "image/png": "[encoded data removed]",
      "text/plain": [
       "<Figure size 640x480 with 1 Axes>"
      ]
     },
     "metadata": {},
     "output_type": "display_data"
    }
   ],
   "source": [
    "df['minutes'].plot()"
   ]
  },
  {
   "cell_type": "code",
   "execution_count": null,
   "id": "7c66d5b7",
   "metadata": {},
   "outputs": [],
   "source": []
  }
 ],
 "metadata": {
  "kernelspec": {
   "display_name": "Python 3 (ipykernel)",
   "language": "python",
   "name": "python3"
  },
  "language_info": {
   "codemirror_mode": {
    "name": "ipython",
    "version": 3
   },
   "file_extension": ".py",
   "mimetype": "text/x-python",
   "name": "python",
   "nbconvert_exporter": "python",
   "pygments_lexer": "ipython3",
   "version": "3.9.13"
  }
 },
 "nbformat": 4,
 "nbformat_minor": 5
}
