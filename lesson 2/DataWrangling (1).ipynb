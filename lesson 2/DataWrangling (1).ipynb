{
 "cells": [
  {
   "cell_type": "markdown",
   "id": "a004aac2",
   "metadata": {},
   "source": [
    "# Data Wrangling: Running Results\n",
    "\n",
    "Analyze results of [https://valentinslauf.de/Ergebnisse-Fotos/](https://valentinslauf.de/Ergebnisse-Fotos/) "
   ]
  },
  {
   "cell_type": "code",
   "execution_count": null,
   "id": "0b630196",
   "metadata": {},
   "outputs": [],
   "source": [
    "import pandas as pd\n",
    "import numpy as np\n",
    "import seaborn as sns\n",
    "from matplotlib import pyplot as plt"
   ]
  },
  {
   "cell_type": "code",
   "execution_count": null,
   "id": "1df7671a",
   "metadata": {},
   "outputs": [],
   "source": [
    "df = pd.read_csv(\n",
    "    \"results_10km.csv\",\n",
    "    encoding=\"iso8859-1\",\n",
    "    skiprows=2,\n",
    "    sep=\";\",\n",
    "    index_col=0\n",
    ")\n",
    "df"
   ]
  },
  {
   "cell_type": "markdown",
   "id": "ab4b22cd",
   "metadata": {},
   "source": [
    "## Anonymize the data\n",
    "\n",
    "The data contains personal information as defined by the GDPR. All participants have agreed that their data is to be shared. This however does not include redistribution by third parties. Therefore, the data must be anonymized."
   ]
  },
  {
   "cell_type": "code",
   "execution_count": null,
   "id": "12b2a174",
   "metadata": {},
   "outputs": [],
   "source": [
    "from faker import Faker\n",
    "\n",
    "f = Faker()"
   ]
  },
  {
   "cell_type": "code",
   "execution_count": null,
   "id": "aa2a90b2",
   "metadata": {},
   "outputs": [],
   "source": [
    "def anonymize(s):\n",
    "    if type(s) == str and s not in [\"\", \"MCL\", \"NaN\", \"Kristian\"]:\n",
    "        return f.first_name()\n",
    "    return s"
   ]
  },
  {
   "cell_type": "markdown",
   "id": "a03f574e",
   "metadata": {},
   "source": [
    "## What is Tidy Data?\n",
    "\n",
    "According to [Tidy Data](https://vita.had.co.nz/papers/tidy-data.pdf) by Hadley Wickham (2014), in tidy data:\n",
    "\n",
    "1. Each variable forms a column.\n",
    "2. Each observation forms a row.\n",
    "3. Each type of observational unit forms a table.\n",
    "\n",
    "(Codds 3rd normal form)\n"
   ]
  },
  {
   "cell_type": "markdown",
   "id": "d49aa48f",
   "metadata": {},
   "source": [
    "## Tidy Data Checklist\n",
    "\n",
    "Don'ts:\n",
    "\n",
    "* Column headers are values, not variable names.\n",
    "* Multiple variables are stored in one column.\n",
    "* Variables are stored in both rows and columns.\n",
    "* Multiple types of observational units are stored in the same table.\n",
    "* A single observational unit is stored in multiple tables.\n"
   ]
  },
  {
   "cell_type": "markdown",
   "id": "1d770135",
   "metadata": {},
   "source": [
    "## Useful phrases to inspect data"
   ]
  },
  {
   "cell_type": "code",
   "execution_count": null,
   "id": "37e036b1",
   "metadata": {},
   "outputs": [],
   "source": []
  },
  {
   "cell_type": "markdown",
   "id": "70e3fef2",
   "metadata": {},
   "source": [
    "## What to put in the index of a DataFrame?"
   ]
  },
  {
   "cell_type": "code",
   "execution_count": null,
   "id": "62727c18",
   "metadata": {},
   "outputs": [],
   "source": []
  },
  {
   "cell_type": "markdown",
   "id": "deaee1b9",
   "metadata": {},
   "source": [
    "## Methods to fill missing values"
   ]
  },
  {
   "cell_type": "code",
   "execution_count": null,
   "id": "49dc4896",
   "metadata": {},
   "outputs": [],
   "source": []
  }
 ],
 "metadata": {
  "kernelspec": {
   "display_name": "Python 3",
   "language": "python",
   "name": "python3"
  },
  "language_info": {
   "codemirror_mode": {
    "name": "ipython",
    "version": 3
   },
   "file_extension": ".py",
   "mimetype": "text/x-python",
   "name": "python",
   "nbconvert_exporter": "python",
   "pygments_lexer": "ipython3",
   "version": "3.9.12"
  }
 },
 "nbformat": 4,
 "nbformat_minor": 5
}
