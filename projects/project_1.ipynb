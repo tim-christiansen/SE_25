{
 "cells": [
  {
   "cell_type": "markdown",
   "id": "759d369d",
   "metadata": {},
   "source": [
    "# Read Baby Name Data"
   ]
  },
  {
   "cell_type": "markdown",
   "id": "336f746d",
   "metadata": {},
   "source": [
    "### Task 1"
   ]
  },
  {
   "cell_type": "markdown",
   "id": "4f1fc6b1",
   "metadata": {},
   "source": [
    "How many columns are there?\n",
    "3 Columns\n",
    "\n",
    "How are columns separated?\n",
    "Seperated by Commas\n",
    "\n",
    "Is there a header on top of the files?\n",
    "No"
   ]
  },
  {
   "cell_type": "markdown",
   "id": "03d6ad44",
   "metadata": {},
   "source": [
    "### Task 2\n",
    "Read the file 'yob2021.txt' into pandas."
   ]
  },
  {
   "cell_type": "code",
   "execution_count": null,
   "id": "fc8f034d",
   "metadata": {},
   "outputs": [],
   "source": [
    "import pandas as pd"
   ]
  },
  {
   "cell_type": "code",
   "execution_count": 35,
   "id": "07f78be5",
   "metadata": {},
   "outputs": [],
   "source": [
    "df = pd.read_csv(\n",
    "    'names/yob2021.txt',\n",
    "    sep=',',\n",
    "    names=['Name','Gender','Amount'], #set columns names\n",
    "    header=None\n",
    ")\n"
   ]
  },
  {
   "cell_type": "markdown",
   "id": "c10d60f3",
   "metadata": {},
   "source": [
    "### Task 3\n",
    "Print the first 10 rows."
   ]
  },
  {
   "cell_type": "code",
   "execution_count": 106,
   "id": "4b6d183e",
   "metadata": {},
   "outputs": [
    {
     "data": {
      "text/html": [
       "<div>\n",
       "<style scoped>\n",
       "    .dataframe tbody tr th:only-of-type {\n",
       "        vertical-align: middle;\n",
       "    }\n",
       "\n",
       "    .dataframe tbody tr th {\n",
       "        vertical-align: top;\n",
       "    }\n",
       "\n",
       "    .dataframe thead th {\n",
       "        text-align: right;\n",
       "    }\n",
       "</style>\n",
       "<table border=\"1\" class=\"dataframe\">\n",
       "  <thead>\n",
       "    <tr style=\"text-align: right;\">\n",
       "      <th></th>\n",
       "      <th>Name</th>\n",
       "      <th>Gender</th>\n",
       "      <th>Amount</th>\n",
       "    </tr>\n",
       "  </thead>\n",
       "  <tbody>\n",
       "    <tr>\n",
       "      <th>0</th>\n",
       "      <td>Olivia</td>\n",
       "      <td>F</td>\n",
       "      <td>17728</td>\n",
       "    </tr>\n",
       "    <tr>\n",
       "      <th>1</th>\n",
       "      <td>Emma</td>\n",
       "      <td>F</td>\n",
       "      <td>15433</td>\n",
       "    </tr>\n",
       "    <tr>\n",
       "      <th>2</th>\n",
       "      <td>Charlotte</td>\n",
       "      <td>F</td>\n",
       "      <td>13285</td>\n",
       "    </tr>\n",
       "    <tr>\n",
       "      <th>3</th>\n",
       "      <td>Amelia</td>\n",
       "      <td>F</td>\n",
       "      <td>12952</td>\n",
       "    </tr>\n",
       "    <tr>\n",
       "      <th>4</th>\n",
       "      <td>Ava</td>\n",
       "      <td>F</td>\n",
       "      <td>12759</td>\n",
       "    </tr>\n",
       "    <tr>\n",
       "      <th>5</th>\n",
       "      <td>Sophia</td>\n",
       "      <td>F</td>\n",
       "      <td>12496</td>\n",
       "    </tr>\n",
       "    <tr>\n",
       "      <th>6</th>\n",
       "      <td>Isabella</td>\n",
       "      <td>F</td>\n",
       "      <td>11201</td>\n",
       "    </tr>\n",
       "    <tr>\n",
       "      <th>7</th>\n",
       "      <td>Mia</td>\n",
       "      <td>F</td>\n",
       "      <td>11096</td>\n",
       "    </tr>\n",
       "    <tr>\n",
       "      <th>8</th>\n",
       "      <td>Evelyn</td>\n",
       "      <td>F</td>\n",
       "      <td>9434</td>\n",
       "    </tr>\n",
       "    <tr>\n",
       "      <th>9</th>\n",
       "      <td>Harper</td>\n",
       "      <td>F</td>\n",
       "      <td>8388</td>\n",
       "    </tr>\n",
       "  </tbody>\n",
       "</table>\n",
       "</div>"
      ],
      "text/plain": [
       "        Name Gender  Amount\n",
       "0     Olivia      F   17728\n",
       "1       Emma      F   15433\n",
       "2  Charlotte      F   13285\n",
       "3     Amelia      F   12952\n",
       "4        Ava      F   12759\n",
       "5     Sophia      F   12496\n",
       "6   Isabella      F   11201\n",
       "7        Mia      F   11096\n",
       "8     Evelyn      F    9434\n",
       "9     Harper      F    8388"
      ]
     },
     "execution_count": 106,
     "metadata": {},
     "output_type": "execute_result"
    }
   ],
   "source": [
    "df.head(10)"
   ]
  },
  {
   "cell_type": "markdown",
   "id": "90ea87d9",
   "metadata": {},
   "source": [
    "### Task 4\n",
    "Display the number of rows and columns."
   ]
  },
  {
   "cell_type": "code",
   "execution_count": 21,
   "id": "7d836555",
   "metadata": {},
   "outputs": [
    {
     "data": {
      "text/plain": [
       "31536"
      ]
     },
     "execution_count": 21,
     "metadata": {},
     "output_type": "execute_result"
    }
   ],
   "source": [
    "df.count()[0]\n",
    "# Rows"
   ]
  },
  {
   "cell_type": "code",
   "execution_count": 30,
   "id": "b6197f1d",
   "metadata": {},
   "outputs": [
    {
     "data": {
      "text/plain": [
       "31536"
      ]
     },
     "execution_count": 30,
     "metadata": {},
     "output_type": "execute_result"
    }
   ],
   "source": [
    "row_count = len(df.axes[0])\n",
    "row_count"
   ]
  },
  {
   "cell_type": "code",
   "execution_count": 29,
   "id": "33bb9c1d",
   "metadata": {},
   "outputs": [
    {
     "data": {
      "text/plain": [
       "3"
      ]
     },
     "execution_count": 29,
     "metadata": {},
     "output_type": "execute_result"
    }
   ],
   "source": [
    "# Columns\n",
    "col_count = len(df.axes[1])\n",
    "col_count"
   ]
  },
  {
   "cell_type": "markdown",
   "id": "c5e4eca1",
   "metadata": {},
   "source": [
    "### Task 5\n",
    "Calculate the total number of babies born in 2021, i.e. the sum of the third column."
   ]
  },
  {
   "cell_type": "code",
   "execution_count": 37,
   "id": "4bd914c8",
   "metadata": {},
   "outputs": [
    {
     "data": {
      "text/plain": [
       "3361375"
      ]
     },
     "execution_count": 37,
     "metadata": {},
     "output_type": "execute_result"
    }
   ],
   "source": [
    "df['Amount'].sum()"
   ]
  },
  {
   "cell_type": "markdown",
   "id": "03be7634",
   "metadata": {},
   "source": [
    "### Task 6\n",
    "Like Task 5, but calculate the sum for boys and girls separately."
   ]
  },
  {
   "cell_type": "code",
   "execution_count": 51,
   "id": "7ad60056",
   "metadata": {},
   "outputs": [],
   "source": [
    "gender_list = df.set_index('Gender')"
   ]
  },
  {
   "cell_type": "code",
   "execution_count": 52,
   "id": "1fda52ec",
   "metadata": {},
   "outputs": [
    {
     "data": {
      "text/plain": [
       "1627098"
      ]
     },
     "execution_count": 52,
     "metadata": {},
     "output_type": "execute_result"
    }
   ],
   "source": [
    "females = gender_list.loc['F']\n",
    "females['Amount'].sum()"
   ]
  },
  {
   "cell_type": "code",
   "execution_count": 53,
   "id": "b4931163",
   "metadata": {},
   "outputs": [
    {
     "data": {
      "text/plain": [
       "1734277"
      ]
     },
     "execution_count": 53,
     "metadata": {},
     "output_type": "execute_result"
    }
   ],
   "source": [
    "males = gender_list.loc['M']\n",
    "males['Amount'].sum()"
   ]
  },
  {
   "cell_type": "markdown",
   "id": "28fd9cb3",
   "metadata": {},
   "source": [
    "### Task 7\n",
    "Check if your name occurs in the data."
   ]
  },
  {
   "cell_type": "code",
   "execution_count": 63,
   "id": "0f51294a",
   "metadata": {},
   "outputs": [
    {
     "data": {
      "text/html": [
       "<div>\n",
       "<style scoped>\n",
       "    .dataframe tbody tr th:only-of-type {\n",
       "        vertical-align: middle;\n",
       "    }\n",
       "\n",
       "    .dataframe tbody tr th {\n",
       "        vertical-align: top;\n",
       "    }\n",
       "\n",
       "    .dataframe thead th {\n",
       "        text-align: right;\n",
       "    }\n",
       "</style>\n",
       "<table border=\"1\" class=\"dataframe\">\n",
       "  <thead>\n",
       "    <tr style=\"text-align: right;\">\n",
       "      <th></th>\n",
       "      <th>Name</th>\n",
       "      <th>Gender</th>\n",
       "      <th>Amount</th>\n",
       "    </tr>\n",
       "  </thead>\n",
       "  <tbody>\n",
       "    <tr>\n",
       "      <th>20495</th>\n",
       "      <td>Tim</td>\n",
       "      <td>M</td>\n",
       "      <td>42</td>\n",
       "    </tr>\n",
       "  </tbody>\n",
       "</table>\n",
       "</div>"
      ],
      "text/plain": [
       "      Name Gender  Amount\n",
       "20495  Tim      M      42"
      ]
     },
     "execution_count": 63,
     "metadata": {},
     "output_type": "execute_result"
    }
   ],
   "source": [
    "df['Name']\n",
    "df[df.eq(\"Tim\").any(1)]"
   ]
  },
  {
   "cell_type": "markdown",
   "id": "4385fe32",
   "metadata": {},
   "source": [
    "### Task 8\n",
    "Calculate the percentage of girls and boys among the total births."
   ]
  },
  {
   "cell_type": "code",
   "execution_count": 74,
   "id": "9804e4d1",
   "metadata": {},
   "outputs": [
    {
     "data": {
      "text/plain": [
       "51.59427317689933"
      ]
     },
     "execution_count": 74,
     "metadata": {},
     "output_type": "execute_result"
    }
   ],
   "source": [
    "percent_males = (males['Amount'].sum() / df['Amount'].sum()) * 100\n",
    "percent_males"
   ]
  },
  {
   "cell_type": "code",
   "execution_count": 76,
   "id": "dd9d0a31",
   "metadata": {},
   "outputs": [
    {
     "data": {
      "text/plain": [
       "48.405726823100665"
      ]
     },
     "execution_count": 76,
     "metadata": {},
     "output_type": "execute_result"
    }
   ],
   "source": [
    "percent_females = (females['Amount'].sum() / df['Amount'].sum()) * 100\n",
    "percent_females"
   ]
  },
  {
   "cell_type": "code",
   "execution_count": 77,
   "id": "800d23f9",
   "metadata": {},
   "outputs": [
    {
     "data": {
      "text/plain": [
       "100.0"
      ]
     },
     "execution_count": 77,
     "metadata": {},
     "output_type": "execute_result"
    }
   ],
   "source": [
    "percent_females + percent_males"
   ]
  },
  {
   "cell_type": "markdown",
   "id": "0a0817ee",
   "metadata": {},
   "source": [
    "### Task 9\n",
    "Create a table that contains the top 5 girls names and top 5 boys names.\n",
    "\n"
   ]
  },
  {
   "cell_type": "code",
   "execution_count": 89,
   "id": "f69d79cd",
   "metadata": {},
   "outputs": [],
   "source": [
    "males_sorted = males.sort_values(by=['Amount'], ascending=False)\n",
    "females_sorted = females.sort_values(by=['Amount'], ascending=False)"
   ]
  },
  {
   "cell_type": "code",
   "execution_count": 101,
   "id": "515f077e",
   "metadata": {},
   "outputs": [
    {
     "data": {
      "text/html": [
       "<div>\n",
       "<style scoped>\n",
       "    .dataframe tbody tr th:only-of-type {\n",
       "        vertical-align: middle;\n",
       "    }\n",
       "\n",
       "    .dataframe tbody tr th {\n",
       "        vertical-align: top;\n",
       "    }\n",
       "\n",
       "    .dataframe thead th {\n",
       "        text-align: right;\n",
       "    }\n",
       "</style>\n",
       "<table border=\"1\" class=\"dataframe\">\n",
       "  <thead>\n",
       "    <tr style=\"text-align: right;\">\n",
       "      <th></th>\n",
       "      <th>Name</th>\n",
       "      <th>Amount</th>\n",
       "    </tr>\n",
       "    <tr>\n",
       "      <th>Gender</th>\n",
       "      <th></th>\n",
       "      <th></th>\n",
       "    </tr>\n",
       "  </thead>\n",
       "  <tbody>\n",
       "    <tr>\n",
       "      <th>M</th>\n",
       "      <td>Liam</td>\n",
       "      <td>20272</td>\n",
       "    </tr>\n",
       "    <tr>\n",
       "      <th>M</th>\n",
       "      <td>Noah</td>\n",
       "      <td>18739</td>\n",
       "    </tr>\n",
       "    <tr>\n",
       "      <th>M</th>\n",
       "      <td>Oliver</td>\n",
       "      <td>14616</td>\n",
       "    </tr>\n",
       "    <tr>\n",
       "      <th>M</th>\n",
       "      <td>Elijah</td>\n",
       "      <td>12708</td>\n",
       "    </tr>\n",
       "    <tr>\n",
       "      <th>M</th>\n",
       "      <td>James</td>\n",
       "      <td>12367</td>\n",
       "    </tr>\n",
       "  </tbody>\n",
       "</table>\n",
       "</div>"
      ],
      "text/plain": [
       "          Name  Amount\n",
       "Gender                \n",
       "M         Liam   20272\n",
       "M         Noah   18739\n",
       "M       Oliver   14616\n",
       "M       Elijah   12708\n",
       "M        James   12367"
      ]
     },
     "execution_count": 101,
     "metadata": {},
     "output_type": "execute_result"
    }
   ],
   "source": [
    "top_males = males_sorted.iloc[0:5, 0:2]\n",
    "top_males"
   ]
  },
  {
   "cell_type": "code",
   "execution_count": 102,
   "id": "2148970e",
   "metadata": {},
   "outputs": [
    {
     "data": {
      "text/html": [
       "<div>\n",
       "<style scoped>\n",
       "    .dataframe tbody tr th:only-of-type {\n",
       "        vertical-align: middle;\n",
       "    }\n",
       "\n",
       "    .dataframe tbody tr th {\n",
       "        vertical-align: top;\n",
       "    }\n",
       "\n",
       "    .dataframe thead th {\n",
       "        text-align: right;\n",
       "    }\n",
       "</style>\n",
       "<table border=\"1\" class=\"dataframe\">\n",
       "  <thead>\n",
       "    <tr style=\"text-align: right;\">\n",
       "      <th></th>\n",
       "      <th>Name</th>\n",
       "      <th>Amount</th>\n",
       "    </tr>\n",
       "    <tr>\n",
       "      <th>Gender</th>\n",
       "      <th></th>\n",
       "      <th></th>\n",
       "    </tr>\n",
       "  </thead>\n",
       "  <tbody>\n",
       "    <tr>\n",
       "      <th>F</th>\n",
       "      <td>Olivia</td>\n",
       "      <td>17728</td>\n",
       "    </tr>\n",
       "    <tr>\n",
       "      <th>F</th>\n",
       "      <td>Emma</td>\n",
       "      <td>15433</td>\n",
       "    </tr>\n",
       "    <tr>\n",
       "      <th>F</th>\n",
       "      <td>Charlotte</td>\n",
       "      <td>13285</td>\n",
       "    </tr>\n",
       "    <tr>\n",
       "      <th>F</th>\n",
       "      <td>Amelia</td>\n",
       "      <td>12952</td>\n",
       "    </tr>\n",
       "    <tr>\n",
       "      <th>F</th>\n",
       "      <td>Ava</td>\n",
       "      <td>12759</td>\n",
       "    </tr>\n",
       "  </tbody>\n",
       "</table>\n",
       "</div>"
      ],
      "text/plain": [
       "             Name  Amount\n",
       "Gender                   \n",
       "F          Olivia   17728\n",
       "F            Emma   15433\n",
       "F       Charlotte   13285\n",
       "F          Amelia   12952\n",
       "F             Ava   12759"
      ]
     },
     "execution_count": 102,
     "metadata": {},
     "output_type": "execute_result"
    }
   ],
   "source": [
    "top_females = females_sorted.iloc[0:5]\n",
    "top_females"
   ]
  },
  {
   "cell_type": "code",
   "execution_count": 103,
   "id": "af1587d0",
   "metadata": {},
   "outputs": [
    {
     "data": {
      "text/html": [
       "<div>\n",
       "<style scoped>\n",
       "    .dataframe tbody tr th:only-of-type {\n",
       "        vertical-align: middle;\n",
       "    }\n",
       "\n",
       "    .dataframe tbody tr th {\n",
       "        vertical-align: top;\n",
       "    }\n",
       "\n",
       "    .dataframe thead th {\n",
       "        text-align: right;\n",
       "    }\n",
       "</style>\n",
       "<table border=\"1\" class=\"dataframe\">\n",
       "  <thead>\n",
       "    <tr style=\"text-align: right;\">\n",
       "      <th></th>\n",
       "      <th>Name</th>\n",
       "      <th>Amount</th>\n",
       "    </tr>\n",
       "    <tr>\n",
       "      <th>Gender</th>\n",
       "      <th></th>\n",
       "      <th></th>\n",
       "    </tr>\n",
       "  </thead>\n",
       "  <tbody>\n",
       "    <tr>\n",
       "      <th>F</th>\n",
       "      <td>Olivia</td>\n",
       "      <td>17728</td>\n",
       "    </tr>\n",
       "    <tr>\n",
       "      <th>F</th>\n",
       "      <td>Emma</td>\n",
       "      <td>15433</td>\n",
       "    </tr>\n",
       "    <tr>\n",
       "      <th>F</th>\n",
       "      <td>Charlotte</td>\n",
       "      <td>13285</td>\n",
       "    </tr>\n",
       "    <tr>\n",
       "      <th>F</th>\n",
       "      <td>Amelia</td>\n",
       "      <td>12952</td>\n",
       "    </tr>\n",
       "    <tr>\n",
       "      <th>F</th>\n",
       "      <td>Ava</td>\n",
       "      <td>12759</td>\n",
       "    </tr>\n",
       "    <tr>\n",
       "      <th>M</th>\n",
       "      <td>Liam</td>\n",
       "      <td>20272</td>\n",
       "    </tr>\n",
       "    <tr>\n",
       "      <th>M</th>\n",
       "      <td>Noah</td>\n",
       "      <td>18739</td>\n",
       "    </tr>\n",
       "    <tr>\n",
       "      <th>M</th>\n",
       "      <td>Oliver</td>\n",
       "      <td>14616</td>\n",
       "    </tr>\n",
       "    <tr>\n",
       "      <th>M</th>\n",
       "      <td>Elijah</td>\n",
       "      <td>12708</td>\n",
       "    </tr>\n",
       "    <tr>\n",
       "      <th>M</th>\n",
       "      <td>James</td>\n",
       "      <td>12367</td>\n",
       "    </tr>\n",
       "  </tbody>\n",
       "</table>\n",
       "</div>"
      ],
      "text/plain": [
       "             Name  Amount\n",
       "Gender                   \n",
       "F          Olivia   17728\n",
       "F            Emma   15433\n",
       "F       Charlotte   13285\n",
       "F          Amelia   12952\n",
       "F             Ava   12759\n",
       "M            Liam   20272\n",
       "M            Noah   18739\n",
       "M          Oliver   14616\n",
       "M          Elijah   12708\n",
       "M           James   12367"
      ]
     },
     "execution_count": 103,
     "metadata": {},
     "output_type": "execute_result"
    }
   ],
   "source": [
    "top_names = pd.concat([top_females, top_males])\n",
    "top_names"
   ]
  },
  {
   "cell_type": "markdown",
   "id": "cbd21249",
   "metadata": {},
   "source": [
    "### Task 10\n",
    "Write the data from task 9 to an Excel spreadsheet.\n"
   ]
  },
  {
   "cell_type": "code",
   "execution_count": 104,
   "id": "db29ccde",
   "metadata": {},
   "outputs": [],
   "source": [
    "top_names.to_excel(\"top_names.xlsx\")"
   ]
  }
 ],
 "metadata": {
  "kernelspec": {
   "display_name": "Python 3 (ipykernel)",
   "language": "python",
   "name": "python3"
  },
  "language_info": {
   "codemirror_mode": {
    "name": "ipython",
    "version": 3
   },
   "file_extension": ".py",
   "mimetype": "text/x-python",
   "name": "python",
   "nbconvert_exporter": "python",
   "pygments_lexer": "ipython3",
   "version": "3.9.13"
  }
 },
 "nbformat": 4,
 "nbformat_minor": 5
}
